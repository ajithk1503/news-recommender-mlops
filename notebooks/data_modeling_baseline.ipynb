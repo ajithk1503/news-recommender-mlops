{
 "cells": [
  {
   "cell_type": "code",
   "execution_count": 30,
   "id": "2c811219",
   "metadata": {},
   "outputs": [],
   "source": [
    "import numpy as np\n",
    "import pandas as pd\n",
    "from sklearn.metrics.pairwise import cosine_similarity\n",
    "from sklearn.feature_extraction.text import TfidfVectorizer\n",
    "from sklearn.model_selection import train_test_split\n",
    "from sklearn.metrics import precision_score\n"
   ]
  },
  {
   "cell_type": "code",
   "execution_count": 31,
   "id": "93f1ffdf",
   "metadata": {},
   "outputs": [],
   "source": [
    "n_users = 100\n",
    "n_items = 200\n",
    "\n",
    "users = pd.DataFrame({'user_id': range(n_users)})\n",
    "\n",
    "news = pd.DataFrame({\n",
    "    'news_id': range(n_items),\n",
    "    'title': [f\"Article {i}\" for i in range(n_items)],\n",
    "    'text': [f\"This is a news article about {topic}\" for topic in np.random.choice(['sports', 'tech', 'politics', 'health'], n_items)]\n",
    "})\n",
    "\n",
    "interactions = pd.DataFrame({\n",
    "    'user_id': np.random.choice(n_users, size=1000),\n",
    "    'news_id': np.random.choice(n_items, size=1000),\n",
    "    'clicked': np.random.randint(0, 2, size=1000)\n",
    "})\n"
   ]
  },
  {
   "cell_type": "code",
   "execution_count": 36,
   "id": "069f7955",
   "metadata": {},
   "outputs": [],
   "source": [
    "from scipy.sparse.linalg import svds\n",
    "\n",
    "user_item_matrix = interactions.pivot_table(index='user_id', columns='news_id', values='clicked')\n",
    "user_item_matrix = user_item_matrix.reindex(columns=range(n_items), fill_value=0).fillna(0)\n",
    "matrix = user_item_matrix.values.astype(float)\n",
    "\n",
    "U, sigma, Vt = svds(matrix, k=20)\n",
    "U, sigma, Vt = U[:, ::-1], sigma[::-1], Vt[::-1, :]\n",
    "\n",
    "user_factors = U\n",
    "item_factors = Vt.T\n",
    "collab_scores = np.dot(user_factors, item_factors.T)\n"
   ]
  },
  {
   "cell_type": "code",
   "execution_count": 37,
   "id": "e15891da",
   "metadata": {},
   "outputs": [],
   "source": [
    "tfidf = TfidfVectorizer()\n",
    "tfidf_matrix = tfidf.fit_transform(news['text'])\n",
    "content_sim_matrix = cosine_similarity(tfidf_matrix)\n"
   ]
  },
  {
   "cell_type": "code",
   "execution_count": 38,
   "id": "64de0ff3",
   "metadata": {},
   "outputs": [],
   "source": [
    "# Normalize both scores\n",
    "collab_norm = (collab_scores - collab_scores.min()) / (collab_scores.max() - collab_scores.min())\n",
    "content_norm = (content_sim_matrix - content_sim_matrix.min()) / (content_sim_matrix.max() - content_sim_matrix.min())\n",
    "\n",
    "# Create hybrid scores: average of collab and content similarities\n",
    "hybrid_scores = np.zeros_like(collab_norm)\n",
    "\n",
    "for user_id in range(n_users):\n",
    "    user_interactions = user_item_matrix.values[user_id]\n",
    "    viewed_indices = np.where(user_interactions > 0)[0]\n",
    "\n",
    "    if len(viewed_indices) > 0:\n",
    "        avg_content_score = content_norm[viewed_indices].mean(axis=0)\n",
    "    else:\n",
    "        avg_content_score = np.zeros(n_items)\n",
    "\n",
    "    hybrid_scores[user_id] = 0.5 * collab_norm[user_id] + 0.5 * avg_content_score\n"
   ]
  },
  {
   "cell_type": "code",
   "execution_count": 39,
   "id": "cfea47c2",
   "metadata": {},
   "outputs": [
    {
     "data": {
      "text/plain": [
       "array([[0.30001042, 0.2638072 , 0.23440052, ..., 0.29885988, 0.21440158,\n",
       "        0.32072835],\n",
       "       [0.11836865, 0.60920852, 0.12668971, ..., 0.6091145 , 0.60791419,\n",
       "        0.12886456],\n",
       "       [0.1119669 , 0.63316771, 0.11947373, ..., 0.60450159, 0.61010303,\n",
       "        0.10654488],\n",
       "       ...,\n",
       "       [0.10978674, 0.61966986, 0.12076788, ..., 0.63705945, 0.6092528 ,\n",
       "        0.13813493],\n",
       "       [0.18616283, 0.31835863, 0.20533843, ..., 0.32076353, 0.37447371,\n",
       "        0.19733959],\n",
       "       [0.22326739, 0.40863152, 0.13259441, ..., 0.33426357, 0.33344102,\n",
       "        0.11924878]], shape=(100, 200))"
      ]
     },
     "execution_count": 39,
     "metadata": {},
     "output_type": "execute_result"
    }
   ],
   "source": [
    "hybrid_scores"
   ]
  },
  {
   "cell_type": "code",
   "execution_count": null,
   "id": "29937f58",
   "metadata": {},
   "outputs": [],
   "source": []
  }
 ],
 "metadata": {
  "kernelspec": {
   "display_name": "venv",
   "language": "python",
   "name": "python3"
  },
  "language_info": {
   "codemirror_mode": {
    "name": "ipython",
    "version": 3
   },
   "file_extension": ".py",
   "mimetype": "text/x-python",
   "name": "python",
   "nbconvert_exporter": "python",
   "pygments_lexer": "ipython3",
   "version": "3.12.7"
  }
 },
 "nbformat": 4,
 "nbformat_minor": 5
}
